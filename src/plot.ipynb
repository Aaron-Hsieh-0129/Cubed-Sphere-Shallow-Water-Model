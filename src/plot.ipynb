{
 "cells": [
  {
   "cell_type": "markdown",
   "metadata": {},
   "source": [
    "## Import Package"
   ]
  },
  {
   "cell_type": "code",
   "execution_count": 2,
   "metadata": {},
   "outputs": [],
   "source": [
    "import matplotlib.pyplot as plt\n",
    "import numpy as np\n",
    "import matplotlib.cm as cm\n",
    "import os\n",
    "\n",
    "import multiprocessing\n",
    "from multiprocessing import Pool"
   ]
  },
  {
   "cell_type": "markdown",
   "metadata": {},
   "source": [
    "## Define Constant"
   ]
  },
  {
   "cell_type": "code",
   "execution_count": 3,
   "metadata": {},
   "outputs": [],
   "source": [
    "DX = DY = 2\n",
    "NX = NY = int(90 / DX + 4)\n",
    "DT = 360"
   ]
  },
  {
   "cell_type": "markdown",
   "metadata": {},
   "source": [
    "## Make Directory"
   ]
  },
  {
   "cell_type": "code",
   "execution_count": 9,
   "metadata": {},
   "outputs": [],
   "source": [
    "os.makedirs(\"../graphs/grids\")\n",
    "os.makedirs(\"../graphs/h/curvilinear\")\n",
    "os.makedirs(\"../graphs/h/sphere\")"
   ]
  },
  {
   "cell_type": "markdown",
   "metadata": {},
   "source": [
    "## Plot Function"
   ]
  },
  {
   "attachments": {},
   "cell_type": "markdown",
   "metadata": {},
   "source": [
    "#### Function for plot grids"
   ]
  },
  {
   "cell_type": "code",
   "execution_count": 18,
   "metadata": {},
   "outputs": [],
   "source": [
    "def Plotgrids(val, left, right, split, title, saveplace):\n",
    "    fig = plt.figure(figsize=(18,10))\n",
    "    ax5 = fig.add_subplot(3,4,2)\n",
    "    ax4 = fig.add_subplot(3,4,5)\n",
    "    ax1 = fig.add_subplot(3,4,6)\n",
    "    ax2 = fig.add_subplot(3,4,7)\n",
    "    ax3 = fig.add_subplot(3,4,8)\n",
    "    ax6 = fig.add_subplot(3,4,10)\n",
    "\n",
    "    cmap = cm.twilight_shifted\n",
    "\n",
    "    cs1 = ax1.contourf(val[0, 2:-2, 2:-2], extend='both', levels=np.linspace(left, right, split), cmap=cmap)\n",
    "    ax2.contourf(val[1, 2:-2, 2:-2], extend='both', levels=np.linspace(left, right, split), cmap=cmap)\n",
    "    ax3.contourf(val[2, 2:-2, 2:-2], extend='both', levels=np.linspace(left, right, split), cmap=cmap)\n",
    "    ax4.contourf(val[3, 2:-2, 2:-2], extend='both', levels=np.linspace(left, right, split), cmap=cmap)\n",
    "    ax5.contourf(val[4, 2:-2, 2:-2], extend='both', levels=np.linspace(left, right, split), cmap=cmap)\n",
    "    ax6.contourf(val[5, 2:-2, 2:-2], extend='both', levels=np.linspace(left, right, split), cmap=cmap)\n",
    "    cb_ax1 = fig.add_axes([0.9235, 0.1, 0.015, 0.78])\n",
    "    fig.colorbar(cs1, cax=cb_ax1, ticks=np.linspace(left, right, split))\n",
    "\n",
    "    ax5.set_title(title, fontsize=14)\n",
    "    plt.savefig(saveplace, dpi=300)\n",
    "    plt.close()\n",
    "    return"
   ]
  },
  {
   "attachments": {},
   "cell_type": "markdown",
   "metadata": {},
   "source": [
    "#### Function for Plotting h"
   ]
  },
  {
   "cell_type": "code",
   "execution_count": 19,
   "metadata": {},
   "outputs": [],
   "source": [
    "def plotOnSphereMul(t):\n",
    "    leap = 10\n",
    "    x, y = np.loadtxt(\"../outputs/grids/x.txt\").reshape(6, NX, NY)[:, 2:-2, 2:-2], np.loadtxt(\"../outputs/grids/y.txt\").reshape(6, NX, NY)[:, 2:-2, 2:-2]\n",
    "    val = np.loadtxt(f\"../outputs/h/h_{t*leap}.txt\").reshape(6, NX, NY)[:, 2:-2, 2:-2]\n",
    "\n",
    "    left, right, split = -1200, 1200, 13\n",
    "    plt.figure(figsize=(18,8))\n",
    "    plt.xlabel(\"LON\")\n",
    "    plt.ylabel(\"LAT\")\n",
    "    plt.title(f\"t = {t * 10 * DT / 60} min\", fontsize=14)\n",
    "\n",
    "    cmap = cm.twilight_shifted\n",
    "    plt.contourf(x[0], y[0], val[0], levels=np.linspace(left, right, split), extend='both', cmap=cmap)\n",
    "    plt.contourf(x[1], y[1], val[1], levels=np.linspace(left, right, split), extend='both', cmap=cmap)\n",
    "    plt.contourf(x[2, :, 0:NX//2], y[2, :, 0:NX//2], val[2, :, 0:NX//2], levels=np.linspace(left, right, split), extend='both', cmap=cmap)\n",
    "    plt.contourf(x[2, :, NX//2:]-360, y[2, :, NX//2:], val[2, :, NX//2:], levels=np.linspace(left, right, split), extend='both', cmap=cmap)\n",
    "    plt.contourf(x[3]-360, y[3], val[3], levels=np.linspace(left, right, split), extend='both', cmap=cmap)\n",
    "    plt.contourf(x[4], y[4], val[4], levels=np.linspace(left, right, split), extend='both', cmap=cmap)\n",
    "    plt.contourf(x[5], y[5], val[5], levels=np.linspace(left, right, split), extend='both', cmap=cmap)\n",
    "    cbar = plt.colorbar(pad=0.05)\n",
    "    cbar.set_ticks(np.linspace(left, right, split))\n",
    "\n",
    "    plt.savefig(f\"../graphs/h/sphere/{int(t/10)}.png\", dpi=150)\n",
    "    plt.close()\n",
    "    return"
   ]
  },
  {
   "cell_type": "code",
   "execution_count": 20,
   "metadata": {},
   "outputs": [],
   "source": [
    "def plotOnCubeMul(t):\n",
    "    leap = 10\n",
    "    x, y = np.loadtxt(\"../outputs/grids/x.txt\").reshape(6, NX, NY)[:, 2:-2, 2:-2], np.loadtxt(\"../outputs/grids/y.txt\").reshape(6, NX, NY)[:, 2:-2, 2:-2]\n",
    "    val = np.loadtxt(f\"../outputs/h/h_{t*leap}.txt\").reshape(6, NX, NY)[:, 2:-2, 2:-2]\n",
    "\n",
    "    fig = plt.figure(figsize=(18,10))\n",
    "    ax5 = fig.add_subplot(3,4,2)\n",
    "    ax4 = fig.add_subplot(3,4,5)\n",
    "    ax1 = fig.add_subplot(3,4,6)\n",
    "    ax2 = fig.add_subplot(3,4,7)\n",
    "    ax3 = fig.add_subplot(3,4,8)\n",
    "    ax6 = fig.add_subplot(3,4,10)\n",
    "    ax5.set_title(f\"t = {t * 10 * DT / 60} min\", fontsize=14)\n",
    "\n",
    "    left, right, split = -1200, 1200, 13\n",
    "    cmap = cm.jet\n",
    "    cs1 = ax1.contourf(x[0], y[0], val[0], levels=np.linspace(left, right, split), extend='both', cmap=cmap)\n",
    "    ax2.contourf(x[1], y[1], val[1], levels=np.linspace(left, right, split), extend='both', cmap=cmap)\n",
    "    ax3.contourf(x[2], y[2], val[2], levels=np.linspace(left, right, split), extend='both', cmap=cmap)\n",
    "    ax4.contourf(x[3], y[3], val[3], levels=np.linspace(left, right, split), extend='both', cmap=cmap)\n",
    "    ax5.contourf(x[4], y[4], val[4], levels=np.linspace(left, right, split), extend='both', cmap=cmap)\n",
    "    ax6.contourf(x[5], y[5], val[5], levels=np.linspace(left, right, split), extend='both', cmap=cmap)\n",
    "    cb_ax1 = fig.add_axes([0.9235, 0.1, 0.015, 0.78])\n",
    "    fig.colorbar(cs1, cax=cb_ax1, ticks=np.linspace(left, right, split))\n",
    "\n",
    "    plt.savefig(f\"../graphs/h/curvilinear/{int(t/10)}.png\", dpi=150)\n",
    "    plt.close()\n",
    "    return"
   ]
  },
  {
   "attachments": {},
   "cell_type": "markdown",
   "metadata": {},
   "source": [
    "#### Function for Plotting Wind/H"
   ]
  },
  {
   "cell_type": "code",
   "execution_count": 27,
   "metadata": {},
   "outputs": [],
   "source": [
    "def plotOnCubeWindMul(t):\n",
    "    leap = 30\n",
    "    left, right, split = 0, 1000, 21\n",
    "    cmap = cm.viridis\n",
    "\n",
    "    x, y = np.loadtxt(\"../outputs/grids/x.txt\").reshape(6, NX, NY)[:, 2:-2, 2:-2], np.loadtxt(\"../outputs/grids/y.txt\").reshape(6, NX, NY)[:, 2:-2, 2:-2]\n",
    "    val = np.loadtxt(f\"../outputs/h/h_{t*leap}.txt\").reshape(6, NX, NY)[:, 2:-2, 2:-2]\n",
    "    u = np.loadtxt(f\"../outputs/u/u_{t*leap}.txt\").reshape(6, NX, NY)[:, 2:-2, 2:-2]\n",
    "    v = np.loadtxt(f\"../outputs/v/v_{t*leap}.txt\").reshape(6, NX, NY)[:, 2:-2, 2:-2]\n",
    "\n",
    "    fig = plt.figure(figsize=(18,10))\n",
    "    ax5 = fig.add_subplot(3,4,2)\n",
    "    ax4 = fig.add_subplot(3,4,5)\n",
    "    ax1 = fig.add_subplot(3,4,6)\n",
    "    ax2 = fig.add_subplot(3,4,7)\n",
    "    ax3 = fig.add_subplot(3,4,8)\n",
    "    ax6 = fig.add_subplot(3,4,10)\n",
    "    ax5.set_title(f\"t = {t * 10 * DT / 60} min\", fontsize=14)\n",
    "\n",
    "    cs1 = ax1.contourf(x[0], y[0], val[0], levels=np.linspace(left, right, split), extend='both', cmap=cmap)\n",
    "    ax2.contourf(x[1], y[1], val[1], levels=np.linspace(left, right, split), extend='both', cmap=cmap)\n",
    "    ax3.contourf(x[2], y[2], val[2], levels=np.linspace(left, right, split), extend='both', cmap=cmap)\n",
    "    ax4.contourf(x[3], y[3], val[3], levels=np.linspace(left, right, split), extend='both', cmap=cmap)\n",
    "    ax5.contourf(x[4], y[4], val[4], levels=np.linspace(left, right, split), extend='both', cmap=cmap)\n",
    "    ax6.contourf(x[5], y[5], val[5], levels=np.linspace(left, right, split), extend='both', cmap=cmap)\n",
    "    cb_ax1 = fig.add_axes([0.9235, 0.1, 0.015, 0.78])\n",
    "    fig.colorbar(cs1, cax=cb_ax1, ticks=np.linspace(left, right, split))\n",
    "\n",
    "    Q = ax1.quiver(x[0], y[0], u[0], v[0], angles='xy', units=\"width\", scale=100)\n",
    "    ax2.quiver(x[1], y[1], u[1], v[1], angles='xy', units=\"width\", scale=100)\n",
    "    ax3.quiver(x[2], y[2], u[2], v[2], angles='xy', units=\"width\", scale=100)\n",
    "    ax4.quiver(x[3], y[3], u[3], v[3], angles='xy', units=\"width\", scale=100)\n",
    "    ax5.quiver(x[4], y[4], u[4], v[4], angles='xy', units=\"width\", scale=100)\n",
    "    ax6.quiver(x[5], y[5], u[5], v[5], angles='xy', units=\"width\", scale=100)\n",
    "\n",
    "    ax1.quiverkey(Q, 0.7, 0.9, 10, r'$10 \\frac{m}{s}$', labelpos='E', coordinates='figure')  \n",
    "    ax2.quiverkey(Q, 0.7, 0.9, 10, r'$10 \\frac{m}{s}$', labelpos='E', coordinates='figure')  \n",
    "    ax3.quiverkey(Q, 0.7, 0.9, 10, r'$10 \\frac{m}{s}$', labelpos='E', coordinates='figure')  \n",
    "    ax4.quiverkey(Q, 0.7, 0.9, 10, r'$10 \\frac{m}{s}$', labelpos='E', coordinates='figure')  \n",
    "    ax5.quiverkey(Q, 0.7, 0.9, 10, r'$10 \\frac{m}{s}$', labelpos='E', coordinates='figure')  \n",
    "    ax6.quiverkey(Q, 0.7, 0.9, 10, r'$10 \\frac{m}{s}$', labelpos='E', coordinates='figure')   \n",
    "    \n",
    "    plt.savefig(f\"../graphs/h/curvilinear/{int(t/10)}.png\", dpi=150)\n",
    "    plt.close()\n",
    "    return\n"
   ]
  },
  {
   "cell_type": "code",
   "execution_count": 43,
   "metadata": {},
   "outputs": [],
   "source": [
    "def plotOnSphereWindMul(t):\n",
    "    cmap = cm.viridis\n",
    "    leap = 10\n",
    "    x, y = np.loadtxt(\"../outputs/grids/lon.txt\").reshape(6, NX, NY)[:, 2:-2, 2:-2], np.loadtxt(\"../outputs/grids/lat.txt\").reshape(6, NX, NY)[:, 2:-2, 2:-2]\n",
    "    val = np.loadtxt(f\"../outputs/h/h_{t*leap}.txt\").reshape(6, NX, NY)[:, 2:-2, 2:-2]\n",
    "    x = x * 180 / np.pi\n",
    "    y = y * 180 / np.pi\n",
    "\n",
    "    u = np.loadtxt(f\"../outputs/u/u_{t*leap}.txt\").reshape(6, NX, NY)[:, 2:-2, 2:-2]\n",
    "    v = np.loadtxt(f\"../outputs/v/v_{t*leap}.txt\").reshape(6, NX, NY)[:, 2:-2, 2:-2]\n",
    "\n",
    "    left, right, split = 0, 1000, 21\n",
    "    plt.figure(figsize=(18,8))\n",
    "    plt.xlabel(\"LON\")\n",
    "    plt.ylabel(\"LAT\")\n",
    "    plt.title(f\"t = {t * 10 * DT / 60} min\", fontsize=14)\n",
    "\n",
    "    # cmap = cm.twilight_shifted\n",
    "    plt.contourf(x[0], y[0], val[0], levels=np.linspace(left, right, split), extend='both', cmap=cmap)\n",
    "    plt.contourf(x[1], y[1], val[1], levels=np.linspace(left, right, split), extend='both', cmap=cmap)\n",
    "    plt.contourf(x[2, :, 0:NX//2], y[2, :, 0:NX//2], val[2, :, 0:NX//2], levels=np.linspace(left, right, split), extend='both', cmap=cmap)\n",
    "    plt.contourf(x[2, :, NX//2:]-360, y[2, :, NX//2:], val[2, :, NX//2:], levels=np.linspace(left, right, split), extend='both', cmap=cmap)\n",
    "    plt.contourf(x[3]-360, y[3], val[3], levels=np.linspace(left, right, split), extend='both', cmap=cmap)\n",
    "    plt.contourf(x[4], y[4], val[4], levels=np.linspace(left, right, split), extend='both', cmap=cmap)\n",
    "    plt.contourf(x[5], y[5], val[5], levels=np.linspace(left, right, split), extend='both', cmap=cmap)\n",
    "    cbar = plt.colorbar(pad=0.05)\n",
    "    cbar.set_ticks(np.linspace(left, right, split))\n",
    "    \n",
    "    # plt.quiver(x[0][::2, ::2], y[0][::2, ::2], u[0][::2, ::2], v[0][::2, ::2], angles='xy', units=\"width\", scale=100)\n",
    "    # plt.quiver(x[1][::2, ::2], y[1][::2, ::2], u[1][::2, ::2], v[1][::2, ::2], angles='xy', units=\"width\", scale=100)\n",
    "    # plt.quiver(x[2, :, 0:NX//2][::2, ::2], y[2, :, 0:NX//2][::2, ::2], u[2, :, 0:NX//2][::2, ::2], v[2, :, 0:NX//2][::2, ::2], angles='xy', units=\"width\", scale=100)\n",
    "    # plt.quiver(x[2, :, NX//2:][::2, ::2]-360, y[2, :, NX//2:][::2, ::2], u[2, :, NX//2:][::2, ::2], v[2, :, NX//2:][::2, ::2], angles='xy', units=\"width\", scale=100)\n",
    "    # plt.quiver(x[3][::2, ::2]-360, y[3][::2, ::2], u[3][::2, ::2], v[3][::2, ::2], angles='xy', units=\"width\", scale=100)\n",
    "    # plt.quiver(x[4][::2, ::2], y[4][::2, ::2], u[4][::2, ::2], v[4][::2, ::2], angles='xy', units=\"width\", scale=100)\n",
    "    # Q = plt.quiver(x[5][::2, ::2], y[5][::2, ::2], u[5][::2, ::2], v[5][::2, ::2], angles='xy', units=\"width\", scale=100)\n",
    "    # qk = plt.quiverkey(Q, 0.7, 0.9, 0.5, r'$5 \\frac{m}{s}$', labelpos='E', coordinates='figure')\n",
    "        \n",
    "    plt.savefig(f\"../graphs/h/sphere/{int(t/10)}.png\", dpi=150)\n",
    "    plt.close()\n",
    "    return"
   ]
  },
  {
   "cell_type": "markdown",
   "metadata": {},
   "source": [
    "## Load and Plot grids-related Data"
   ]
  },
  {
   "cell_type": "code",
   "execution_count": 15,
   "metadata": {},
   "outputs": [],
   "source": [
    "x, y = np.loadtxt(\"../outputs/grids/x.txt\").reshape(6, NX, NY), np.loadtxt(\"../outputs/grids/y.txt\").reshape(6, NX, NY)\n",
    "x_L, y_L = np.loadtxt(\"../outputs/grids/x_L.txt\").reshape(6, NX, NY), np.loadtxt(\"../outputs/grids/y_L.txt\").reshape(6, NX, NY)\n",
    "x_R, y_R = np.loadtxt(\"../outputs/grids/x_R.txt\").reshape(6, NX, NY), np.loadtxt(\"../outputs/grids/y_R.txt\").reshape(6, NX, NY)\n",
    "x_U, y_U = np.loadtxt(\"../outputs/grids/x_U.txt\").reshape(6, NX, NY), np.loadtxt(\"../outputs/grids/y_U.txt\").reshape(6, NX, NY)\n",
    "x_D, y_D = np.loadtxt(\"../outputs/grids/x_D.txt\").reshape(6, NX, NY), np.loadtxt(\"../outputs/grids/y_D.txt\").reshape(6, NX, NY)\n",
    "\n",
    "lon, lat = np.loadtxt(\"../outputs/grids/lon.txt\").reshape(6, NX, NY), np.loadtxt(\"../outputs/grids/lat.txt\").reshape(6, NX, NY)\n",
    "lon_L, lat_L = np.loadtxt(\"../outputs/grids/lon_L.txt\").reshape(6, NX, NY), np.loadtxt(\"../outputs/grids/lat_L.txt\").reshape(6, NX, NY)\n",
    "lon_R, lat_R = np.loadtxt(\"../outputs/grids/lon_R.txt\").reshape(6, NX, NY), np.loadtxt(\"../outputs/grids/lat_R.txt\").reshape(6, NX, NY)\n",
    "lon_U, lat_U = np.loadtxt(\"../outputs/grids/lon_U.txt\").reshape(6, NX, NY), np.loadtxt(\"../outputs/grids/lat_U.txt\").reshape(6, NX, NY)\n",
    "lon_D, lat_D = np.loadtxt(\"../outputs/grids/lon_D.txt\").reshape(6, NX, NY), np.loadtxt(\"../outputs/grids/lat_D.txt\").reshape(6, NX, NY)"
   ]
  },
  {
   "cell_type": "code",
   "execution_count": 16,
   "metadata": {},
   "outputs": [],
   "source": [
    "Plotgrids(lat * 180 / np.pi, -90, 90, 11, \"Latitude On Cube\", \"../graphs/grids/latitudeOnCube.png\")\n",
    "lon_mod = np.where(lon < 0, lon + 2*np.pi, lon)\n",
    "Plotgrids(lon_mod * 180 / np.pi, 0, 360, 25, \"Longitude On Cube\", \"../graphs/grids/longitudeOnCube.png\")\n",
    "Plotgrids(x, np.min(x), np.max(x), 11, \"x On Cube\", \"../graphs/grids/xOnCube.png\")\n",
    "Plotgrids(y, np.min(y), np.max(y), 11, \"y On Cube\", \"../graphs/grids/yOnCube.png\")"
   ]
  },
  {
   "cell_type": "markdown",
   "metadata": {},
   "source": [
    "## Plot h/wind"
   ]
  },
  {
   "cell_type": "code",
   "execution_count": 44,
   "metadata": {},
   "outputs": [],
   "source": [
    "plotOnCubeWindMul(0)"
   ]
  }
 ],
 "metadata": {
  "kernelspec": {
   "display_name": "Python 3.9.12 ('base')",
   "language": "python",
   "name": "python3"
  },
  "language_info": {
   "codemirror_mode": {
    "name": "ipython",
    "version": 3
   },
   "file_extension": ".py",
   "mimetype": "text/x-python",
   "name": "python",
   "nbconvert_exporter": "python",
   "pygments_lexer": "ipython3",
   "version": "3.9.15"
  },
  "orig_nbformat": 4,
  "vscode": {
   "interpreter": {
    "hash": "e72609c0a7db2dac87eb69b6e3eea5379b6dc1bb2c88836fd40789aaef8e86c1"
   }
  }
 },
 "nbformat": 4,
 "nbformat_minor": 2
}
