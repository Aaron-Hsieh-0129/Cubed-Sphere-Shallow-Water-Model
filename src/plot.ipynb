{
 "cells": [
  {
   "cell_type": "markdown",
   "metadata": {},
   "source": [
    "## Import Package"
   ]
  },
  {
   "cell_type": "code",
   "execution_count": 1,
   "metadata": {},
   "outputs": [],
   "source": [
    "import matplotlib.pyplot as plt\n",
    "import numpy as np\n",
    "import matplotlib.cm as cm\n",
    "import os\n",
    "import plotFunc as pf\n",
    "\n",
    "import multiprocessing\n",
    "from multiprocessing import Pool"
   ]
  },
  {
   "cell_type": "markdown",
   "metadata": {},
   "source": [
    "## Define Constant"
   ]
  },
  {
   "cell_type": "code",
   "execution_count": 2,
   "metadata": {},
   "outputs": [],
   "source": [
    "DX = DY = 2\n",
    "NX = NY = int(90 / DX + 4)\n",
    "DT = 360"
   ]
  },
  {
   "cell_type": "markdown",
   "metadata": {},
   "source": [
    "## Make Directory"
   ]
  },
  {
   "cell_type": "code",
   "execution_count": 3,
   "metadata": {},
   "outputs": [],
   "source": [
    "os.makedirs(\"../graphs/grids\")\n",
    "os.makedirs(\"../graphs/h/curvilinear\")\n",
    "os.makedirs(\"../graphs/h/sphere\")"
   ]
  },
  {
   "cell_type": "markdown",
   "metadata": {},
   "source": [
    "## Plot Function"
   ]
  },
  {
   "attachments": {},
   "cell_type": "markdown",
   "metadata": {},
   "source": [
    "#### Function for plot grids"
   ]
  },
  {
   "cell_type": "code",
   "execution_count": 8,
   "metadata": {},
   "outputs": [],
   "source": [
    "def Plotgrids(val, left, right, split, title, saveplace):\n",
    "    fig = plt.figure(figsize=(18,10))\n",
    "    ax5 = fig.add_subplot(3,4,2)\n",
    "    ax4 = fig.add_subplot(3,4,5)\n",
    "    ax1 = fig.add_subplot(3,4,6)\n",
    "    ax2 = fig.add_subplot(3,4,7)\n",
    "    ax3 = fig.add_subplot(3,4,8)\n",
    "    ax6 = fig.add_subplot(3,4,10)\n",
    "\n",
    "    cmap = cm.twilight_shifted\n",
    "\n",
    "    cs1 = ax1.contourf(val[0, 2:-2, 2:-2], extend='both', levels=np.linspace(left, right, split), cmap=cmap)\n",
    "    ax2.contourf(val[1, 2:-2, 2:-2], extend='both', levels=np.linspace(left, right, split), cmap=cmap)\n",
    "    ax3.contourf(val[2, 2:-2, 2:-2], extend='both', levels=np.linspace(left, right, split), cmap=cmap)\n",
    "    ax4.contourf(val[3, 2:-2, 2:-2], extend='both', levels=np.linspace(left, right, split), cmap=cmap)\n",
    "    ax5.contourf(val[4, 2:-2, 2:-2], extend='both', levels=np.linspace(left, right, split), cmap=cmap)\n",
    "    ax6.contourf(val[5, 2:-2, 2:-2], extend='both', levels=np.linspace(left, right, split), cmap=cmap)\n",
    "    cb_ax1 = fig.add_axes([0.9235, 0.1, 0.015, 0.78])\n",
    "    fig.colorbar(cs1, cax=cb_ax1, ticks=np.linspace(left, right, split))\n",
    "\n",
    "    ax5.set_title(title, fontsize=14)\n",
    "    plt.savefig(saveplace, dpi=300)\n",
    "    plt.close()\n",
    "    return"
   ]
  },
  {
   "cell_type": "markdown",
   "metadata": {},
   "source": [
    "## Load and Plot grids-related Data"
   ]
  },
  {
   "cell_type": "code",
   "execution_count": 6,
   "metadata": {},
   "outputs": [],
   "source": [
    "x, y = np.loadtxt(\"../outputs/grids/x.txt\").reshape(6, NX, NY), np.loadtxt(\"../outputs/grids/y.txt\").reshape(6, NX, NY)\n",
    "x_L, y_L = np.loadtxt(\"../outputs/grids/x_L.txt\").reshape(6, NX, NY), np.loadtxt(\"../outputs/grids/y_L.txt\").reshape(6, NX, NY)\n",
    "x_R, y_R = np.loadtxt(\"../outputs/grids/x_R.txt\").reshape(6, NX, NY), np.loadtxt(\"../outputs/grids/y_R.txt\").reshape(6, NX, NY)\n",
    "x_U, y_U = np.loadtxt(\"../outputs/grids/x_U.txt\").reshape(6, NX, NY), np.loadtxt(\"../outputs/grids/y_U.txt\").reshape(6, NX, NY)\n",
    "x_D, y_D = np.loadtxt(\"../outputs/grids/x_D.txt\").reshape(6, NX, NY), np.loadtxt(\"../outputs/grids/y_D.txt\").reshape(6, NX, NY)\n",
    "\n",
    "lon, lat = np.loadtxt(\"../outputs/grids/lon.txt\").reshape(6, NX, NY), np.loadtxt(\"../outputs/grids/lat.txt\").reshape(6, NX, NY)\n",
    "lon_L, lat_L = np.loadtxt(\"../outputs/grids/lon_L.txt\").reshape(6, NX, NY), np.loadtxt(\"../outputs/grids/lat_L.txt\").reshape(6, NX, NY)\n",
    "lon_R, lat_R = np.loadtxt(\"../outputs/grids/lon_R.txt\").reshape(6, NX, NY), np.loadtxt(\"../outputs/grids/lat_R.txt\").reshape(6, NX, NY)\n",
    "lon_U, lat_U = np.loadtxt(\"../outputs/grids/lon_U.txt\").reshape(6, NX, NY), np.loadtxt(\"../outputs/grids/lat_U.txt\").reshape(6, NX, NY)\n",
    "lon_D, lat_D = np.loadtxt(\"../outputs/grids/lon_D.txt\").reshape(6, NX, NY), np.loadtxt(\"../outputs/grids/lat_D.txt\").reshape(6, NX, NY)"
   ]
  },
  {
   "cell_type": "code",
   "execution_count": 9,
   "metadata": {},
   "outputs": [],
   "source": [
    "Plotgrids(lat * 180 / np.pi, -90, 90, 11, \"Latitude On Cube\", \"../graphs/grids/latitudeOnCube.png\")\n",
    "lon_mod = np.where(lon < 0, lon + 2*np.pi, lon)\n",
    "Plotgrids(lon_mod * 180 / np.pi, 0, 360, 25, \"Longitude On Cube\", \"../graphs/grids/longitudeOnCube.png\")\n",
    "Plotgrids(x, np.min(x), np.max(x), 11, \"x On Cube\", \"../graphs/grids/xOnCube.png\")\n",
    "Plotgrids(y, np.min(y), np.max(y), 11, \"y On Cube\", \"../graphs/grids/yOnCube.png\")"
   ]
  },
  {
   "cell_type": "markdown",
   "metadata": {},
   "source": [
    "## Plot h/wind"
   ]
  },
  {
   "cell_type": "code",
   "execution_count": 18,
   "metadata": {},
   "outputs": [
    {
     "ename": "FileNotFoundError",
     "evalue": "../outputs/h/h_200.txt not found.",
     "output_type": "error",
     "traceback": [
      "\u001b[0;31m---------------------------------------------------------------------------\u001b[0m",
      "\u001b[0;31mRemoteTraceback\u001b[0m                           Traceback (most recent call last)",
      "\u001b[0;31mRemoteTraceback\u001b[0m: \n\"\"\"\nTraceback (most recent call last):\n  File \"/Users/Aaron/miniconda3/lib/python3.9/multiprocessing/pool.py\", line 125, in worker\n    result = (True, func(*args, **kwds))\n  File \"/Users/Aaron/Cubed-Sphere-Shallow-Water-Model/src/plotFunc.py\", line 16, in plotOnCubeWindMul\n    val = np.loadtxt(f\"../outputs/h/h_{t*LEAP}.txt\").reshape(6, NX, NY)[:, 2:-2, 2:-2]\n  File \"/Users/Aaron/miniconda3/lib/python3.9/site-packages/numpy/lib/npyio.py\", line 1313, in loadtxt\n    arr = _read(fname, dtype=dtype, comment=comment, delimiter=delimiter,\n  File \"/Users/Aaron/miniconda3/lib/python3.9/site-packages/numpy/lib/npyio.py\", line 955, in _read\n    fh = np.lib._datasource.open(fname, 'rt', encoding=encoding)\n  File \"/Users/Aaron/miniconda3/lib/python3.9/site-packages/numpy/lib/_datasource.py\", line 193, in open\n    return ds.open(path, mode, encoding=encoding, newline=newline)\n  File \"/Users/Aaron/miniconda3/lib/python3.9/site-packages/numpy/lib/_datasource.py\", line 533, in open\n    raise FileNotFoundError(f\"{path} not found.\")\nFileNotFoundError: ../outputs/h/h_200.txt not found.\n\"\"\"",
      "\nThe above exception was the direct cause of the following exception:\n",
      "\u001b[0;31mFileNotFoundError\u001b[0m                         Traceback (most recent call last)",
      "Cell \u001b[0;32mIn [18], line 6\u001b[0m\n\u001b[1;32m      4\u001b[0m \u001b[39mwith\u001b[39;00m Pool(nProc) \u001b[39mas\u001b[39;00m p:\n\u001b[1;32m      5\u001b[0m     results \u001b[39m=\u001b[39m [p\u001b[39m.\u001b[39mapply_async(pf\u001b[39m.\u001b[39mplotOnCubeWindMul, (t, )) \u001b[39mfor\u001b[39;00m t \u001b[39min\u001b[39;00m \u001b[39mrange\u001b[39m(\u001b[39m0\u001b[39m, \u001b[39m100\u001b[39m, \u001b[39m10\u001b[39m)]\n\u001b[0;32m----> 6\u001b[0m     final \u001b[39m=\u001b[39m [result\u001b[39m.\u001b[39mget() \u001b[39mfor\u001b[39;00m result \u001b[39min\u001b[39;00m results]\n",
      "Cell \u001b[0;32mIn [18], line 6\u001b[0m, in \u001b[0;36m<listcomp>\u001b[0;34m(.0)\u001b[0m\n\u001b[1;32m      4\u001b[0m \u001b[39mwith\u001b[39;00m Pool(nProc) \u001b[39mas\u001b[39;00m p:\n\u001b[1;32m      5\u001b[0m     results \u001b[39m=\u001b[39m [p\u001b[39m.\u001b[39mapply_async(pf\u001b[39m.\u001b[39mplotOnCubeWindMul, (t, )) \u001b[39mfor\u001b[39;00m t \u001b[39min\u001b[39;00m \u001b[39mrange\u001b[39m(\u001b[39m0\u001b[39m, \u001b[39m100\u001b[39m, \u001b[39m10\u001b[39m)]\n\u001b[0;32m----> 6\u001b[0m     final \u001b[39m=\u001b[39m [result\u001b[39m.\u001b[39;49mget() \u001b[39mfor\u001b[39;00m result \u001b[39min\u001b[39;00m results]\n",
      "File \u001b[0;32m~/miniconda3/lib/python3.9/multiprocessing/pool.py:771\u001b[0m, in \u001b[0;36mApplyResult.get\u001b[0;34m(self, timeout)\u001b[0m\n\u001b[1;32m    769\u001b[0m     \u001b[39mreturn\u001b[39;00m \u001b[39mself\u001b[39m\u001b[39m.\u001b[39m_value\n\u001b[1;32m    770\u001b[0m \u001b[39melse\u001b[39;00m:\n\u001b[0;32m--> 771\u001b[0m     \u001b[39mraise\u001b[39;00m \u001b[39mself\u001b[39m\u001b[39m.\u001b[39m_value\n",
      "\u001b[0;31mFileNotFoundError\u001b[0m: ../outputs/h/h_200.txt not found."
     ]
    }
   ],
   "source": [
    "if __name__ == '__main__':\n",
    "    nProc = multiprocessing.cpu_count()\n",
    "    with Pool(nProc) as p:\n",
    "        results = [p.apply_async(pf.plotOnCubeWindMul, (t, )) for t in range(0, 100, 10)]\n",
    "        final = [result.get() for result in results]"
   ]
  }
 ],
 "metadata": {
  "kernelspec": {
   "display_name": "Python 3.9.12 ('base')",
   "language": "python",
   "name": "python3"
  },
  "language_info": {
   "codemirror_mode": {
    "name": "ipython",
    "version": 3
   },
   "file_extension": ".py",
   "mimetype": "text/x-python",
   "name": "python",
   "nbconvert_exporter": "python",
   "pygments_lexer": "ipython3",
   "version": "3.9.15"
  },
  "orig_nbformat": 4,
  "vscode": {
   "interpreter": {
    "hash": "e72609c0a7db2dac87eb69b6e3eea5379b6dc1bb2c88836fd40789aaef8e86c1"
   }
  }
 },
 "nbformat": 4,
 "nbformat_minor": 2
}
