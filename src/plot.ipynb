{
 "cells": [
  {
   "cell_type": "markdown",
   "metadata": {},
   "source": [
    "## Import Package"
   ]
  },
  {
   "cell_type": "code",
   "execution_count": 1,
   "metadata": {},
   "outputs": [],
   "source": [
    "import matplotlib.pyplot as plt\n",
    "import numpy as np\n",
    "import matplotlib.cm as cm\n",
    "import os\n",
    "\n",
    "import multiprocessing\n",
    "from multiprocessing import Pool"
   ]
  },
  {
   "cell_type": "markdown",
   "metadata": {},
   "source": [
    "## Define Constant"
   ]
  },
  {
   "cell_type": "code",
   "execution_count": 2,
   "metadata": {},
   "outputs": [],
   "source": [
    "DX = DY = 2\n",
    "NX = NY = int(90 / DX + 4)\n",
    "# NX_V = NY_V = NX + 1\n",
    "DT = 360"
   ]
  },
  {
   "cell_type": "markdown",
   "metadata": {},
   "source": [
    "## Make Directory"
   ]
  },
  {
   "cell_type": "code",
   "execution_count": 13,
   "metadata": {},
   "outputs": [],
   "source": [
    "os.mkdir(\"../graphs/grids\")"
   ]
  },
  {
   "cell_type": "markdown",
   "metadata": {},
   "source": [
    "## Plot Function"
   ]
  },
  {
   "cell_type": "code",
   "execution_count": 3,
   "metadata": {},
   "outputs": [],
   "source": [
    "def Plotgrids(val, left, right, split, title, saveplace):\n",
    "    fig = plt.figure(figsize=(18,10))\n",
    "    ax5 = fig.add_subplot(3,4,2)\n",
    "    ax4 = fig.add_subplot(3,4,5)\n",
    "    ax1 = fig.add_subplot(3,4,6)\n",
    "    ax2 = fig.add_subplot(3,4,7)\n",
    "    ax3 = fig.add_subplot(3,4,8)\n",
    "    ax6 = fig.add_subplot(3,4,10)\n",
    "\n",
    "    cmap = cm.twilight_shifted\n",
    "\n",
    "    cs1 = ax1.contourf(val[0, 2:-2, 2:-2], extend='both', levels=np.linspace(left, right, split), cmap=cmap)\n",
    "    ax2.contourf(val[1, 2:-2, 2:-2], extend='both', levels=np.linspace(left, right, split), cmap=cmap)\n",
    "    ax3.contourf(val[2, 2:-2, 2:-2], extend='both', levels=np.linspace(left, right, split), cmap=cmap)\n",
    "    ax4.contourf(val[3, 2:-2, 2:-2], extend='both', levels=np.linspace(left, right, split), cmap=cmap)\n",
    "    ax5.contourf(val[4, 2:-2, 2:-2], extend='both', levels=np.linspace(left, right, split), cmap=cmap)\n",
    "    ax6.contourf(val[5, 2:-2, 2:-2], extend='both', levels=np.linspace(left, right, split), cmap=cmap)\n",
    "    cb_ax1 = fig.add_axes([0.9235, 0.1, 0.015, 0.78])\n",
    "    fig.colorbar(cs1, cax=cb_ax1, ticks=np.linspace(left, right, split))\n",
    "\n",
    "    ax5.set_title(title, fontsize=14)\n",
    "    plt.savefig(saveplace, dpi=300)\n",
    "    plt.close()\n",
    "    return"
   ]
  },
  {
   "cell_type": "markdown",
   "metadata": {},
   "source": [
    "## Load and Plot grids-related Data"
   ]
  },
  {
   "cell_type": "code",
   "execution_count": 10,
   "metadata": {},
   "outputs": [],
   "source": [
    "x, y = np.loadtxt(\"../outputs/grids/x.txt\").reshape(6, NX, NY), np.loadtxt(\"../outputs/grids/y.txt\").reshape(6, NX, NY)\n",
    "x_u, y_u = np.loadtxt(\"../outputs/grids/x_u.txt\").reshape(6, NX, NY), np.loadtxt(\"../outputs/grids/y_u.txt\").reshape(6, NX, NY)\n",
    "x_v, y_v = np.loadtxt(\"../outputs/grids/x_v.txt\").reshape(6, NX, NY), np.loadtxt(\"../outputs/grids/y_v.txt\").reshape(6, NX, NY)\n",
    "\n",
    "lon, lat = np.loadtxt(\"../outputs/grids/lon.txt\").reshape(6, NX, NY), np.loadtxt(\"../outputs/grids/lat.txt\").reshape(6, NX, NY)\n",
    "lon_u, lat_u = np.loadtxt(\"../outputs/grids/lon_u.txt\").reshape(6, NX, NY), np.loadtxt(\"../outputs/grids/lat_u.txt\").reshape(6, NX, NY)\n",
    "lon_v, lat_v = np.loadtxt(\"../outputs/grids/lon_v.txt\").reshape(6, NX, NY), np.loadtxt(\"../outputs/grids/lat_v.txt\").reshape(6, NX, NY)"
   ]
  },
  {
   "cell_type": "code",
   "execution_count": 14,
   "metadata": {},
   "outputs": [],
   "source": [
    "# Plotgrids(lat * 180 / np.pi, -90, 90, 11, \"Latitude On Cube\", \"../graphs/grids/latitudeOnCube.png\")\n",
    "# lon_mod = np.where(lon < 0, lon + 2*np.pi, lon)\n",
    "# Plotgrids(lon_mod * 180 / np.pi, 0, 360, 25, \"Longitude On Cube\", \"../graphs/grids/longitudeOnCube.png\")\n",
    "# Plotgrids(x, np.min(x), np.max(x), 11, \"x On Cube\", \"../graphs/grids/xOnCube.png\")\n",
    "# Plotgrids(y, np.min(y), np.max(y), 11, \"y On Cube\", \"../graphs/grids/yOnCube.png\")"
   ]
  }
 ],
 "metadata": {
  "kernelspec": {
   "display_name": "Python 3.9.12 ('base')",
   "language": "python",
   "name": "python3"
  },
  "language_info": {
   "codemirror_mode": {
    "name": "ipython",
    "version": 3
   },
   "file_extension": ".py",
   "mimetype": "text/x-python",
   "name": "python",
   "nbconvert_exporter": "python",
   "pygments_lexer": "ipython3",
   "version": "3.9.15"
  },
  "orig_nbformat": 4,
  "vscode": {
   "interpreter": {
    "hash": "e72609c0a7db2dac87eb69b6e3eea5379b6dc1bb2c88836fd40789aaef8e86c1"
   }
  }
 },
 "nbformat": 4,
 "nbformat_minor": 2
}
