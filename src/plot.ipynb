{
 "cells": [
  {
   "cell_type": "markdown",
   "metadata": {},
   "source": [
    "## Import Package"
   ]
  },
  {
   "cell_type": "code",
   "execution_count": 2,
   "metadata": {},
   "outputs": [],
   "source": [
    "import matplotlib.pyplot as plt\n",
    "import numpy as np\n",
    "import matplotlib.cm as cm\n",
    "import os\n",
    "import plotFunc as pf\n",
    "\n",
    "import multiprocessing\n",
    "from multiprocessing import Pool"
   ]
  },
  {
   "cell_type": "markdown",
   "metadata": {},
   "source": [
    "## Define Constant"
   ]
  },
  {
   "cell_type": "code",
   "execution_count": 11,
   "metadata": {},
   "outputs": [],
   "source": [
    "DX = DY = 2\n",
    "NX = NY = int(90 / DX + 4 - 4)\n",
    "DT = 360"
   ]
  },
  {
   "cell_type": "markdown",
   "metadata": {},
   "source": [
    "## Make Directory"
   ]
  },
  {
   "cell_type": "code",
   "execution_count": 6,
   "metadata": {},
   "outputs": [],
   "source": [
    "os.makedirs(\"../graphs/grids\")\n",
    "os.makedirs(\"../graphs/h/curvilinear\")\n",
    "os.makedirs(\"../graphs/h/sphere\")"
   ]
  },
  {
   "cell_type": "markdown",
   "metadata": {},
   "source": [
    "## Plot Function"
   ]
  },
  {
   "attachments": {},
   "cell_type": "markdown",
   "metadata": {},
   "source": [
    "#### Function for plot grids"
   ]
  },
  {
   "cell_type": "code",
   "execution_count": 12,
   "metadata": {},
   "outputs": [],
   "source": [
    "def Plotgrids(val, left, right, split, title, saveplace):\n",
    "    fig = plt.figure(figsize=(18,10))\n",
    "    ax5 = fig.add_subplot(3,4,2)\n",
    "    ax4 = fig.add_subplot(3,4,5)\n",
    "    ax1 = fig.add_subplot(3,4,6)\n",
    "    ax2 = fig.add_subplot(3,4,7)\n",
    "    ax3 = fig.add_subplot(3,4,8)\n",
    "    ax6 = fig.add_subplot(3,4,10)\n",
    "\n",
    "    cmap = cm.twilight_shifted\n",
    "\n",
    "    cs1 = ax1.contourf(val[0, 2:-2, 2:-2], extend='both', levels=np.linspace(left, right, split), cmap=cmap)\n",
    "    ax2.contourf(val[1, 2:-2, 2:-2], extend='both', levels=np.linspace(left, right, split), cmap=cmap)\n",
    "    ax3.contourf(val[2, 2:-2, 2:-2], extend='both', levels=np.linspace(left, right, split), cmap=cmap)\n",
    "    ax4.contourf(val[3, 2:-2, 2:-2], extend='both', levels=np.linspace(left, right, split), cmap=cmap)\n",
    "    ax5.contourf(val[4, 2:-2, 2:-2], extend='both', levels=np.linspace(left, right, split), cmap=cmap)\n",
    "    ax6.contourf(val[5, 2:-2, 2:-2], extend='both', levels=np.linspace(left, right, split), cmap=cmap)\n",
    "    cb_ax1 = fig.add_axes([0.9235, 0.1, 0.015, 0.78])\n",
    "    fig.colorbar(cs1, cax=cb_ax1, ticks=np.linspace(left, right, split))\n",
    "\n",
    "    ax5.set_title(title, fontsize=14)\n",
    "    plt.savefig(saveplace, dpi=300)\n",
    "    plt.close()\n",
    "    return"
   ]
  },
  {
   "cell_type": "markdown",
   "metadata": {},
   "source": [
    "## Load and Plot grids-related Data"
   ]
  },
  {
   "cell_type": "code",
   "execution_count": 13,
   "metadata": {},
   "outputs": [],
   "source": [
    "x, y = np.loadtxt(\"../outputs/grids/x.txt\").reshape(6, NX, NY), np.loadtxt(\"../outputs/grids/y.txt\").reshape(6, NX, NY)\n",
    "x_L, y_L = np.loadtxt(\"../outputs/grids/x_L.txt\").reshape(6, NX, NY), np.loadtxt(\"../outputs/grids/y_L.txt\").reshape(6, NX, NY)\n",
    "x_R, y_R = np.loadtxt(\"../outputs/grids/x_R.txt\").reshape(6, NX, NY), np.loadtxt(\"../outputs/grids/y_R.txt\").reshape(6, NX, NY)\n",
    "x_U, y_U = np.loadtxt(\"../outputs/grids/x_U.txt\").reshape(6, NX, NY), np.loadtxt(\"../outputs/grids/y_U.txt\").reshape(6, NX, NY)\n",
    "x_D, y_D = np.loadtxt(\"../outputs/grids/x_D.txt\").reshape(6, NX, NY), np.loadtxt(\"../outputs/grids/y_D.txt\").reshape(6, NX, NY)\n",
    "\n",
    "lon, lat = np.loadtxt(\"../outputs/grids/lon.txt\").reshape(6, NX, NY), np.loadtxt(\"../outputs/grids/lat.txt\").reshape(6, NX, NY)\n",
    "lon_L, lat_L = np.loadtxt(\"../outputs/grids/lon_L.txt\").reshape(6, NX, NY), np.loadtxt(\"../outputs/grids/lat_L.txt\").reshape(6, NX, NY)\n",
    "lon_R, lat_R = np.loadtxt(\"../outputs/grids/lon_R.txt\").reshape(6, NX, NY), np.loadtxt(\"../outputs/grids/lat_R.txt\").reshape(6, NX, NY)\n",
    "lon_U, lat_U = np.loadtxt(\"../outputs/grids/lon_U.txt\").reshape(6, NX, NY), np.loadtxt(\"../outputs/grids/lat_U.txt\").reshape(6, NX, NY)\n",
    "lon_D, lat_D = np.loadtxt(\"../outputs/grids/lon_D.txt\").reshape(6, NX, NY), np.loadtxt(\"../outputs/grids/lat_D.txt\").reshape(6, NX, NY)"
   ]
  },
  {
   "cell_type": "code",
   "execution_count": 14,
   "metadata": {},
   "outputs": [],
   "source": [
    "Plotgrids(lat * 180 / np.pi, -90, 90, 11, \"Latitude On Cube\", \"../graphs/grids/latitudeOnCube.png\")\n",
    "# lon_mod = np.where(lon < 0, lon + 2*np.pi, lon)\n",
    "Plotgrids(lon * 180 / np.pi, 0, 360, 25, \"Longitude On Cube\", \"../graphs/grids/longitudeOnCube.png\")\n",
    "Plotgrids(x, np.min(x), np.max(x), 11, \"x On Cube\", \"../graphs/grids/xOnCube.png\")\n",
    "Plotgrids(y, np.min(y), np.max(y), 11, \"y On Cube\", \"../graphs/grids/yOnCube.png\")"
   ]
  },
  {
   "cell_type": "code",
   "execution_count": 69,
   "metadata": {},
   "outputs": [
    {
     "data": {
      "image/png": "[encoded data removed]",
      "text/plain": [
       "<Figure size 640x480 with 1 Axes>"
      ]
     },
     "metadata": {},
     "output_type": "display_data"
    }
   ],
   "source": [
    "# patch0 R\n",
    "plt.plot(lat[0, :, NY-1] * 180 / np.pi, color=\"r\")\n",
    "plt.plot(lat[1, :, 3] * 180 / np.pi, color='r', ls='--')\n",
    "# plt.plot(lat[0, :, NY-2] * 180 / np.pi, color='g')\n",
    "# plt.plot(lat[1, :, 2] * 180 / np.pi, color='g', ls='--')\n",
    "plt.legend(['patch0_1', 'patch1_1', 'patch0_2', 'patch1_2'])\n",
    "plt.show()\n",
    "\n",
    "# patch1"
   ]
  },
  {
   "cell_type": "code",
   "execution_count": 32,
   "metadata": {},
   "outputs": [
    {
     "name": "stdout",
     "output_type": "stream",
     "text": [
      "[315.00016365 312.99653024 311.00722077 309.03280821 307.07214664\n",
      " 305.12523605 303.19207645 301.27152192 299.36357246 297.46765512\n",
      " 295.58319693 293.70905198 291.84522027 289.99055589 288.14505883\n",
      " 286.30758318 284.47698303 282.65268541 280.83469033 279.0212789\n",
      " 277.21187819 275.40591522 273.60281704 271.80086477 270.00005842\n",
      " 268.19925207 266.3972998  264.59362866 262.78766569 260.97883794\n",
      " 259.16542651 257.34685847 255.52313381 253.69253365 251.85505801\n",
      " 250.00956095 248.15489656 246.29106486 244.41691991 242.53246172\n",
      " 240.63654438 238.72859492 236.80804039 234.87488079 232.9279702\n",
      " 230.96730863 228.99289606 227.0035866  224.99995319]\n",
      "[221.99994617 224.00014184 225.99976454 227.99996021 230.00015587\n",
      " 231.99977857 233.99997424 236.0001699  237.9997926  239.99998827\n",
      " 242.00018393 243.99980663 246.0000023  248.00019796 249.99982067\n",
      " 252.00001633 254.00021199 255.9998347  258.00003036 260.00022602\n",
      " 261.99984873 264.00004439 266.00024005 267.99986276 270.00005842\n",
      " 272.00025408 273.99987679 276.00007245 278.00026811 279.99989082\n",
      " 282.00008648 284.00028214 285.99990485 288.00010051 289.99972322\n",
      " 291.99991888 294.00011454 295.99973725 297.99993291 300.00012857\n",
      " 301.99975128 303.99994694 306.0001426  307.99976531 309.99996097\n",
      " 312.00015663 313.99977934 315.999975   318.00017066]\n"
     ]
    }
   ],
   "source": [
    "print((lon[4, :, 0] * 180 / np.pi))\n",
    "print((lon[3, NX-4, :] * 180 / np.pi))\n"
   ]
  },
  {
   "cell_type": "code",
   "execution_count": 82,
   "metadata": {},
   "outputs": [
    {
     "name": "stdout",
     "output_type": "stream",
     "text": [
      "A1: 0.0, B: -1.338561189718483, A2: -1.4865619177787261\n",
      "A1: -1.4865619177787261, B: -2.6789271964916286, A2: -2.9747395765397213\n",
      "A1: -2.9747395765397213, B: -4.022902837374097, A2: -4.4661716355770595\n",
      "A1: -4.4661716355770595, B: -5.372304388576456, A2: -5.962485295028912\n",
      "A1: -5.962485295028912, B: -6.728988233354928, A2: -7.465296295877548\n",
      "A1: -7.465296295877548, B: -8.094805025387783, A2: -8.976300593196555\n",
      "A1: -8.976300593196555, B: -9.471622607087152, A2: -10.4971024688123\n",
      "A1: -10.4971024688123, B: -10.861331739176965, A2: -12.029420796110172\n",
      "A1: -12.029420796110172, B: -12.26599506971969, A2: -13.574917152696054\n",
      "A1: -13.574917152696054, B: -13.687560655218775, A2: -15.135367707734853\n",
      "A1: -13.574917152696054, B: -15.128091143736693, A2: -15.135367707734853\n",
      "A1: -15.135367707734853, B: -16.58964918333591, A2: -16.712376743052932\n",
      "A1: -16.712376743052932, B: -18.074469309417438, A2: -18.307777723594707\n",
      "A1: -18.307777723594707, B: -19.58467146582326, A2: -19.92334681852509\n",
      "A1: -19.92334681852509, B: -21.12266207529293, A2: -21.56080290122947\n",
      "A1: -21.56080290122947, B: -22.690732969006966, A2: -23.221979436652262\n",
      "A1: -23.221979436652262, B: -24.29129056970492, A2: -24.908652593958386\n",
      "A1: -24.908652593958386, B: -25.926798595905858, A2: -26.622655838092243\n",
      "A1: -26.622655838092243, B: -27.59977806190835, A2: -28.365765338218743\n",
      "A1: -28.365765338218743, B: -29.31280727779048, A2: -30.139814559282314\n",
      "A1: -30.139814559282314, B: -31.068464553630353, A2: -31.946522374668334\n",
      "A1: -31.946522374668334, B: -32.869385495285556, A2: -33.78766495354172\n",
      "A1: -33.78766495354172, B: -34.71826300439321, A2: -35.66496116928787\n",
      "A1: -35.66496116928787, B: -36.6176753910314, A2: -37.58007259951265\n"
     ]
    }
   ],
   "source": [
    "count = NX//2 - 1\n",
    "for idx in range(NX//2-1, -1, -1):\n",
    "    B =  lat[0, idx, NX-1]\n",
    "    A1, A2 = lat[1, idx+1, 3], lat[1, idx, 3]\n",
    "\n",
    "    if ((A1-B) * (B-A2) > 0):\n",
    "        print(f\"A1: {A1*180/np.pi}, B: {B*180/np.pi}, A2: {A2*180/np.pi}\")\n",
    "    else:\n",
    "        while (~((A1-B) * (B-A2) > 0)):\n",
    "            tmp = idx+1\n",
    "            A1, A2 = lat[1, tmp+1, 3], lat[1, tmp, 3]\n",
    "        print(f\"A1: {A1*180/np.pi}, B: {B*180/np.pi}, A2: {A2*180/np.pi}\")\n"
   ]
  },
  {
   "cell_type": "markdown",
   "metadata": {},
   "source": [
    "## Plot h/wind"
   ]
  },
  {
   "cell_type": "code",
   "execution_count": 7,
   "metadata": {},
   "outputs": [],
   "source": [
    "if __name__ == '__main__':\n",
    "    nProc = multiprocessing.cpu_count()\n",
    "    with Pool(nProc) as p:\n",
    "        results = [p.apply_async(pf.plotOnCubeMul, (t, )) for t in range(0, 1000, 10)]\n",
    "        final = [result.get() for result in results]"
   ]
  },
  {
   "cell_type": "code",
   "execution_count": 37,
   "metadata": {},
   "outputs": [],
   "source": [
    "if __name__ == '__main__':\n",
    "    nProc = multiprocessing.cpu_count()\n",
    "    with Pool(nProc) as p:\n",
    "        results = [p.apply_async(pf.plotOnCubeWindMul, (t, )) for t in range(0, 100, 10)]\n",
    "        final = [result.get() for result in results]"
   ]
  }
 ],
 "metadata": {
  "kernelspec": {
   "display_name": "Python 3.9.12 ('base')",
   "language": "python",
   "name": "python3"
  },
  "language_info": {
   "codemirror_mode": {
    "name": "ipython",
    "version": 3
   },
   "file_extension": ".py",
   "mimetype": "text/x-python",
   "name": "python",
   "nbconvert_exporter": "python",
   "pygments_lexer": "ipython3",
   "version": "3.9.15"
  },
  "orig_nbformat": 4,
  "vscode": {
   "interpreter": {
    "hash": "e72609c0a7db2dac87eb69b6e3eea5379b6dc1bb2c88836fd40789aaef8e86c1"
   }
  }
 },
 "nbformat": 4,
 "nbformat_minor": 2
}
